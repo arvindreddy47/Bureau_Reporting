{
 "cells": [
  {
   "cell_type": "code",
   "execution_count": null,
   "metadata": {},
   "outputs": [],
   "source": [
    "# from twitter import *\n",
    "import tweepy\n",
    "access_token=\"1213456463135301632-pZ33CIZUipQ3pGBbTJIbEPYnTqMo5X\"\n",
    "access_token_secret=\"lNqU12Uvl0q4PSHxainVJa2WPtZW8w0IJDWWNvbfAWith\"\n",
    "consumer_key=\"5dVXhr90yfPLqvN8lb1gyQaCh\"\n",
    "consumer_secret=\"lZGY4wW2sxy2rfLkI8mz0vBlvydz2id1FHB9FaPwxY3wxrlwQo\"\n",
    "\n",
    "# import tweepy\n",
    "\n",
    "auth = tweepy.OAuthHandler(consumer_key, consumer_secret)\n",
    "auth.set_access_token(access_token, access_token_secret)\n",
    "\n",
    "api = tweepy.API(auth)\n",
    "\n",
    "# public_tweets = api.user_timeline(screen_name=\"arvindreddy47\",count=3)\n",
    "# for tweet in public_tweets:\n",
    "#     print(tweet.text)\n",
    "\n",
    "\n",
    "search_words=\"@unthreadedpost\"\n",
    "tweets = tweepy.Cursor(api.mentions_timeline() ,\n",
    "              q=search_words\n",
    "                  ).items(10)\n",
    "\n",
    "for tweet in tweets:\n",
    "    print([tweet.user.screen_name,tweet.in_reply_to_user_id_str,tweet.in_reply_to_status_id_str,tweet.id,tweet.created_at.date(),tweet.text,tweet.id])\n",
    "    \n",
    "    \n",
    "    \n",
    "# # new_since_id = since_id\n",
    "# tweepy.Cursor(api.mentions_timeline,since_id=1).items()\n",
    "\n",
    "\n",
    "\n"
   ]
  },
  {
   "cell_type": "code",
   "execution_count": null,
   "metadata": {},
   "outputs": [],
   "source": [
    "import os\n",
    "import wget\n",
    "import pandas as pd\n",
    "def get_data():\n",
    "    if os.path.exists(\"cases.csv\")==0:\n",
    "        url = \"https://opendata.ecdc.europa.eu/covid19/casedistribution/csv\"\n",
    "        filename = wget.download(url,\"cases.csv\")\n",
    "        casedata = pd.read_csv(filename, encoding='latin-1')\n",
    "        return casedata\n",
    "    else:\n",
    "        os.remove(\"cases.csv\")\n",
    "        url = \"https://opendata.ecdc.europa.eu/covid19/casedistribution/csv\"\n",
    "        filename = wget.download(url,\"cases.csv\")\n",
    "        casedata = pd.read_csv(filename, encoding='latin-1')\n",
    "        return casedata"
   ]
  },
  {
   "cell_type": "code",
   "execution_count": null,
   "metadata": {},
   "outputs": [],
   "source": [
    "Data.groupby([Data.geoId,Data.countriesAndTerritories])[['deaths']].sum()\n",
    "# Data\n",
    "# Data[\"geoId\"] = Data[\"geoId\"].fillna(0)\n",
    "# Data.dropna(subset=['geoId'])"
   ]
  },
  {
   "cell_type": "code",
   "execution_count": 81,
   "metadata": {},
   "outputs": [],
   "source": [
    "numbers = [\n",
    "    951, 402, 984, 651, 360, 69, 408, 319, 601, 485, 980, 507, 725, 547, 544,\n",
    "    615, 83, 165, 141, 501, 263, 617, 865, 575, 219, 390, 984, 592, 236, 105, 942, 941,\n",
    "    386, 462, 47, 418, 907, 344, 236, 375, 823, 566, 597, 978, 328, 615, 953, 345,\n",
    "    399, 162, 758, 219, 918, 237, 412, 566, 826, 248, 866, 950, 626, 949, 687, 217,\n",
    "    815, 67, 104, 58, 512, 24, 892, 894, 767, 553, 81, 379, 843, 831, 445, 742, 717,\n",
    "    958, 609, 842, 451, 688, 753, 854, 685, 93, 857, 440, 380, 126, 721, 328, 753, 470,\n",
    "    743, 527\n",
    "]\n",
    "\n",
    "# your code goes here\n",
    "# even numbers same order not after 237"
   ]
  },
  {
   "cell_type": "code",
   "execution_count": 94,
   "metadata": {},
   "outputs": [
    {
     "name": "stdout",
     "output_type": "stream",
     "text": [
      "[402, 984, 360, 408, 980, 544, 390, 984, 592, 236, 942, 386, 462, 418, 344, 236, 566, 978, 328, 162, 758, 918]\n"
     ]
    }
   ],
   "source": [
    "z=[]\n",
    "for x in numbers:\n",
    "    if x==237:\n",
    "        break\n",
    "    elif x%2==0:\n",
    "        z.append(x)\n",
    "print(z)\n",
    "        "
   ]
  },
  {
   "cell_type": "code",
   "execution_count": 118,
   "metadata": {},
   "outputs": [
    {
     "data": {
      "text/plain": [
       "(1, 2, 3, 'Sangeetha')"
      ]
     },
     "execution_count": 118,
     "metadata": {},
     "output_type": "execute_result"
    }
   ],
   "source": [
    "X"
   ]
  }
 ],
 "metadata": {
  "kernelspec": {
   "display_name": "Python 3",
   "language": "python",
   "name": "python3"
  },
  "language_info": {
   "codemirror_mode": {
    "name": "ipython",
    "version": 3
   },
   "file_extension": ".py",
   "mimetype": "text/x-python",
   "name": "python",
   "nbconvert_exporter": "python",
   "pygments_lexer": "ipython3",
   "version": "3.7.3"
  }
 },
 "nbformat": 4,
 "nbformat_minor": 2
}
