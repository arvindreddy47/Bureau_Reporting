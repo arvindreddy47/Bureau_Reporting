{
 "cells": [
  {
   "cell_type": "code",
   "execution_count": 5,
   "metadata": {},
   "outputs": [
    {
     "name": "stdout",
     "output_type": "stream",
     "text": [
      "More organized code which is frikkin awesome!\n",
      "More readable code which is frikkin awesome!\n",
      "Easier code reuse which is frikkin awesome!\n",
      "Allowing programmers to share and connect code together which is frikkin awesome!\n"
     ]
    }
   ],
   "source": [
    "def list_benefits():\n",
    "    return \"More organized code\", \"More readable code\", \"Easier code reuse\", \"Allowing programmers to share and connect code together\"\n",
    "\n",
    "\n",
    "def build_sentence(benefit):\n",
    "    return \"%s which is frikkin awesome!\"% benefit\n",
    "\n",
    "def name_the_benefits_of_functions():\n",
    "    list_of_benefits=list_benefits()\n",
    "    for benefit in list_of_benefits:\n",
    "        print(build_sentence(benefit))\n",
    "\n",
    "#list_benefits()\n",
    "name_the_benefits_of_functions()        "
   ]
  },
  {
   "cell_type": "code",
   "execution_count": 6,
   "metadata": {},
   "outputs": [
    {
     "name": "stdout",
     "output_type": "stream",
     "text": [
      "More organized code is a benefit of functions!\n",
      "More readable code is a benefit of functions!\n",
      "Easier code reuse is a benefit of functions!\n",
      "Allowing programmers to share and connect code together is a benefit of functions!\n"
     ]
    }
   ],
   "source": [
    "def list_benefits():\n",
    "    return \"More organized code\", \"More readable code\", \"Easier code reuse\", \"Allowing programmers to share and connect code together\"\n",
    "\n",
    "# Modify this function to concatenate to each benefit - \" is a benefit of functions!\"\n",
    "def build_sentence(benefit):\n",
    "    return \"%s is a benefit of functions!\" % benefit\n",
    "\n",
    "\n",
    "def name_the_benefits_of_functions():\n",
    "    list_of_benefits = list_benefits()\n",
    "    for benefit in list_of_benefits:\n",
    "        print(build_sentence(benefit))\n",
    "\n",
    "name_the_benefits_of_functions()"
   ]
  },
  {
   "cell_type": "code",
   "execution_count": 1,
   "metadata": {},
   "outputs": [
    {
     "name": "stdout",
     "output_type": "stream",
     "text": [
      "1\n"
     ]
    }
   ],
   "source": [
    "x=737%2\n",
    "print(x)"
   ]
  },
  {
   "cell_type": "code",
   "execution_count": 7,
   "metadata": {},
   "outputs": [
    {
     "name": "stdout",
     "output_type": "stream",
     "text": [
      "Name is ARVIND\n",
      "Name is partial\n",
      "Name is not\n"
     ]
    }
   ],
   "source": [
    "x=[\"ARVIND\",\"ARVIND REDDY\",\"ARVIND REDDY PAGIDELA\"]\n",
    "for name in x:\n",
    "    if name==\"ARVIND\":\n",
    "        print(\"Name is ARVIND\")\n",
    "    elif(name == \"ARVIND REDDY\"):\n",
    "        print(\"Name is partial\")\n",
    "    else:\n",
    "        print(\"Name is not\")"
   ]
  },
  {
   "cell_type": "code",
   "execution_count": 67,
   "metadata": {},
   "outputs": [
    {
     "name": "stdout",
     "output_type": "stream",
     "text": [
      "\n",
      "0\n",
      "Polo is a red car worth $60000.\n",
      "('red', 'blue')\n",
      "('Polo', 'Vento')\n",
      "1\n",
      "Vento is a blue car worth $70000.\n",
      "('red', 'blue')\n",
      "('Polo', 'Vento')\n"
     ]
    }
   ],
   "source": [
    "# define the Vehicle class\n",
    "class Vehicle:\n",
    "    name1 = []\n",
    "    kind = \"car\"\n",
    "    color = \"\"\n",
    "    value = 100\n",
    "    print(color)\n",
    "    def description(self):\n",
    "        i=len(self.name1)\n",
    "        for x in range(0,i):\n",
    "            print(x)\n",
    "            desc_str = \"%s is a %s %s worth $%.2d.\" % (self.name1[x], self.color[x], self.kind, self.value[x])\n",
    "            print( desc_str)\n",
    "            print(self.color)\n",
    "            print(self.name1)\n",
    "# your code goes here\n",
    "car1=Vehicle()\n",
    "car1.name1=\"Polo\",\"Vento\"\n",
    "car1.color=\"red\",\"blue\"\n",
    "car1.value=[60000.00,70000.00]\n",
    "car1.description()\n",
    "\n"
   ]
  },
  {
   "cell_type": "code",
   "execution_count": 10,
   "metadata": {},
   "outputs": [
    {
     "name": "stdout",
     "output_type": "stream",
     "text": [
      "('Fer', 'Jump')\n",
      "('red', 'blue')\n",
      "(60000.0, 10000.0)\n"
     ]
    }
   ],
   "source": [
    "print(object_name.name)\n",
    "print(object_name.color)\n",
    "print(object_name.value)"
   ]
  },
  {
   "cell_type": "code",
   "execution_count": 31,
   "metadata": {},
   "outputs": [
    {
     "name": "stdout",
     "output_type": "stream",
     "text": [
      "2\n",
      "0\n",
      "Fer is a red convertible worth $60000.00.\n",
      "Fer is a red convertible worth $60000.00.\n",
      "1\n",
      "ac is a blue van worth $10000.00.\n",
      "ac is a blue van worth $10000.00.\n"
     ]
    }
   ],
   "source": [
    "# define the Vehicle class\n",
    "class Vehicle:\n",
    "         \n",
    "    name = []\n",
    "    kind = \"car\"\n",
    "    color = \"\"\n",
    "    value = 100.00\n",
    "    l1=[]\n",
    "    def description(self):\n",
    "        i=len(self.name)\n",
    "        print(i)\n",
    "        for x in range(0,i):\n",
    "            print(x)\n",
    "            desc_str = \"%s is a %s %s worth $%.2f.\" % (self.name[x], self.color[x], self.kind[x], self.value[x])\n",
    "            #self.l1.append(desc_str)\n",
    "            #return desc_str\n",
    "            #return(desc_str)\n",
    "            print(desc_str)\n",
    "            self.l1.append(desc_str)\n",
    "            print(self.l1[x])\n",
    "# your code goes here\n",
    "car1=Vehicle()\n",
    "car1.name=[\"Fer\",'ac']\n",
    "car1.color=[\"red\",\"blue\"]\n",
    "car1.kind=[\"convertible\",\"van\"]\n",
    "car1.value=[60000.00,10000.00]\n",
    "#car2=Vehicle()\n",
    "#car2.name=\"Jump\"\n",
    "#car2.color=\"blue\"\n",
    "#car2.kind=\"van\"\n",
    "#car2.value=10000.00\n",
    "\n",
    "# test code\n",
    "car1.description()\n"
   ]
  },
  {
   "cell_type": "code",
   "execution_count": 98,
   "metadata": {},
   "outputs": [
    {
     "name": "stdout",
     "output_type": "stream",
     "text": [
      "{'Jack': 938377264, 'Jill': 947662781}\n"
     ]
    }
   ],
   "source": [
    "phonebook = {\n",
    "   \"John\" : 938477566,\n",
    "   \"Jack\" : 938377264,\n",
    "   \"Jill\" : 947662781\n",
    "}\n",
    "phonebook.pop(\"John\")\n",
    "print(phonebook)"
   ]
  },
  {
   "cell_type": "code",
   "execution_count": 99,
   "metadata": {},
   "outputs": [
    {
     "data": {
      "text/plain": [
       "('Jill', 947662781)"
      ]
     },
     "execution_count": 99,
     "metadata": {},
     "output_type": "execute_result"
    }
   ],
   "source": [
    "phonebook.popitem()\n",
    "# print(phonebook)\n"
   ]
  },
  {
   "cell_type": "code",
   "execution_count": 100,
   "metadata": {},
   "outputs": [
    {
     "ename": "SyntaxError",
     "evalue": "invalid syntax (<ipython-input-100-d56b9a958613>, line 5)",
     "output_type": "error",
     "traceback": [
      "\u001b[1;36m  File \u001b[1;32m\"<ipython-input-100-d56b9a958613>\"\u001b[1;36m, line \u001b[1;32m5\u001b[0m\n\u001b[1;33m    print(len(fh.read(c)split())\u001b[0m\n\u001b[1;37m                            ^\u001b[0m\n\u001b[1;31mSyntaxError\u001b[0m\u001b[1;31m:\u001b[0m invalid syntax\n"
     ]
    }
   ],
   "source": [
    "a='vishnu'\n",
    "b=' reddy'\n",
    "c=a+b\n",
    "print(fh.seek(0))\n",
    "print(len(fh.read(c)split())"
   ]
  },
  {
   "cell_type": "code",
   "execution_count": 101,
   "metadata": {},
   "outputs": [],
   "source": [
    "def name_concat(a,b):\n",
    "    return a+\" \"+b"
   ]
  },
  {
   "cell_type": "code",
   "execution_count": 102,
   "metadata": {},
   "outputs": [
    {
     "name": "stdout",
     "output_type": "stream",
     "text": [
      "vishnu vardhan\n"
     ]
    }
   ],
   "source": [
    "print(name_concat(a = 'vishnu',b = 'vardhan'))"
   ]
  },
  {
   "cell_type": "code",
   "execution_count": 103,
   "metadata": {},
   "outputs": [
    {
     "name": "stdout",
     "output_type": "stream",
     "text": [
      "ARVIND REDDYs\n"
     ]
    }
   ],
   "source": [
    "x='ARVIND REDDY'+'s'\n",
    "print(x)"
   ]
  },
  {
   "cell_type": "code",
   "execution_count": 104,
   "metadata": {},
   "outputs": [
    {
     "name": "stdout",
     "output_type": "stream",
     "text": [
      "90\n",
      "90 90.000000 World!\n"
     ]
    }
   ],
   "source": [
    "mystring = 90\n",
    "myfloat = 10.0\n",
    "myint = 20\n",
    "\n",
    "\n",
    "print(mystring)\n",
    "print(\"%s %f World!\" % (mystring,mystring))"
   ]
  },
  {
   "cell_type": "markdown",
   "metadata": {},
   "source": [
    "#Modules"
   ]
  },
  {
   "cell_type": "code",
   "execution_count": 110,
   "metadata": {},
   "outputs": [],
   "source": [
    "import urllib"
   ]
  },
  {
   "cell_type": "code",
   "execution_count": 117,
   "metadata": {},
   "outputs": [],
   "source": [
    "??urlli"
   ]
  },
  {
   "cell_type": "code",
   "execution_count": 107,
   "metadata": {},
   "outputs": [
    {
     "name": "stdout",
     "output_type": "stream",
     "text": [
      "['ASCII', 'IGNORECASE', 'S', 'Scanner', 'VERBOSE']\n"
     ]
    }
   ],
   "source": [
    "import re\n",
    "x=dir(re)\n",
    "# print(x)\n",
    "new_list=[]\n",
    "for func in x:\n",
    "    if \"S\" in func:\n",
    "        new_list.append(func)\n",
    "\n",
    "print(sorted(new_list))\n",
    "\n",
    "\n",
    "        \n",
    "    #if \"find\" in func:\n",
    "        #print(func)\n",
    "    \n",
    "    "
   ]
  },
  {
   "cell_type": "code",
   "execution_count": 225,
   "metadata": {},
   "outputs": [
    {
     "name": "stdout",
     "output_type": "stream",
     "text": [
      "['findall', 'finditer']\n"
     ]
    }
   ],
   "source": [
    "import re\n",
    "\n",
    "# Your code goes here\n",
    "find_members = []\n",
    "for member in dir(re):\n",
    "    if \"find\" in member:\n",
    "        find_members.append(member)\n",
    "\n",
    "print(sorted(find_members))"
   ]
  },
  {
   "cell_type": "code",
   "execution_count": 290,
   "metadata": {},
   "outputs": [
    {
     "name": "stdout",
     "output_type": "stream",
     "text": [
      "['ARVIND REDDY', 'ARVIND REDDY PAGIDELA']\n"
     ]
    }
   ],
   "source": [
    "xyz=[\"ARVIND\",\"ARVIND REDDY\",\"ARVIND REDDY PAGIDELA\"]\n",
    "new_list=[]\n",
    "for x in xyz:\n",
    "    if \"REDDY\" in x:\n",
    "        new_list.append(x)\n",
    "        #print(new_list)\n",
    "print(new_list)        \n",
    "    \n"
   ]
  },
  {
   "cell_type": "code",
   "execution_count": null,
   "metadata": {},
   "outputs": [],
   "source": [
    "print(xyz)\n"
   ]
  },
  {
   "cell_type": "code",
   "execution_count": 269,
   "metadata": {},
   "outputs": [
    {
     "name": "stdout",
     "output_type": "stream",
     "text": [
      "[5, 5, 5, 5, 5, 6, 7, [1, 2, 3]]\n"
     ]
    }
   ],
   "source": [
    "print(xyz)"
   ]
  },
  {
   "cell_type": "code",
   "execution_count": 112,
   "metadata": {},
   "outputs": [
    {
     "name": "stdout",
     "output_type": "stream",
     "text": [
      "Us floor?1\n",
      "Europe floor number is 2\n"
     ]
    }
   ],
   "source": [
    "inp= input(\"Us floor?\")\n",
    "usf=int(inp)+1\n",
    "print(\"Europe floor number is %d\" %usf)"
   ]
  },
  {
   "cell_type": "code",
   "execution_count": 301,
   "metadata": {},
   "outputs": [
    {
     "name": "stdout",
     "output_type": "stream",
     "text": [
      "5.0\n",
      "98\n"
     ]
    }
   ],
   "source": [
    "x = 1 + 2 * 3 - 8 / 4\n",
    "print(x)\n",
    "print(int(98.9))"
   ]
  },
  {
   "cell_type": "code",
   "execution_count": 123,
   "metadata": {},
   "outputs": [
    {
     "name": "stdout",
     "output_type": "stream",
     "text": [
      "100\n"
     ]
    }
   ],
   "source": [
    "# PRINT SQUARES OF number MENTIONED\n",
    "\n",
    "if __name__ == '__main__':\n",
    "    n = int(input())\n",
    "    i=0\n",
    "while n<=20 and n>0:\n",
    "    n-=1\n",
    "    square=i**2\n",
    "    print(square)\n",
    "    i+=1"
   ]
  },
  {
   "cell_type": "code",
   "execution_count": 142,
   "metadata": {},
   "outputs": [
    {
     "name": "stdout",
     "output_type": "stream",
     "text": [
      "5\n",
      "12345\n"
     ]
    }
   ],
   "source": [
    "### PRINT N NUMBERS FUNCTION\n",
    "\n",
    "if __name__ == '__main__':\n",
    "    n = int(input())\n",
    "def ARR(n):\n",
    "    count=1\n",
    "    x=[]\n",
    "    while count<=n:\n",
    "        x.append(count)\n",
    "        count=count+1\n",
    "    print(*x, sep ='')           \n",
    "#     print(\"\".join(x))\n",
    "ARR(n)\n"
   ]
  },
  {
   "cell_type": "code",
   "execution_count": 143,
   "metadata": {},
   "outputs": [
    {
     "name": "stdout",
     "output_type": "stream",
     "text": [
      "5\n",
      "2\n",
      "INTEGER DIVSION 2\n",
      "FLOAT DIVSION 2.500000\n"
     ]
    }
   ],
   "source": [
    "#Division\n",
    "if __name__ == '__main__':\n",
    "    a = int(input())\n",
    "    b = int(input())\n",
    "int_div=a//b\n",
    "flt_div=a/b\n",
    "print(\"INTEGER DIVSION %d\"%int_div)\n",
    "print(\"FLOAT DIVSION %f\"%flt_div)\n",
    "\n"
   ]
  },
  {
   "cell_type": "code",
   "execution_count": 360,
   "metadata": {},
   "outputs": [
    {
     "name": "stdout",
     "output_type": "stream",
     "text": [
      "3\n",
      "2\n",
      "5\n",
      "1\n",
      "6\n"
     ]
    }
   ],
   "source": [
    "if __name__ == '__main__':\n",
    "    a = int(input())\n",
    "    b = int(input())\n",
    "if a>=1 and a<=10**10 and b>=1 and b<=10**10:\n",
    "    print(a+b)\n",
    "    print(a-b)\n",
    "    print(a*b)\n"
   ]
  },
  {
   "cell_type": "code",
   "execution_count": 145,
   "metadata": {},
   "outputs": [
    {
     "name": "stdout",
     "output_type": "stream",
     "text": [
      "202004\n",
      "True\n"
     ]
    }
   ],
   "source": [
    "#LEAP OR NOT\n",
    "def is_leap(year):\n",
    "    leap = False\n",
    "    \n",
    "    # Write your logic here\n",
    "    if ((year%400==0) or ((year%100!=0) and (year%4)==0)):\n",
    "        return True\n",
    "    else:\n",
    "        return False\n",
    "    \n",
    "year = int(input())\n",
    "print(is_leap(year))"
   ]
  },
  {
   "cell_type": "code",
   "execution_count": 150,
   "metadata": {},
   "outputs": [
    {
     "name": "stdout",
     "output_type": "stream",
     "text": [
      "2\n",
      "Not Weird\n"
     ]
    }
   ],
   "source": [
    "if __name__ == '__main__':\n",
    "    n = int(input().strip())\n",
    "    if n%2==1:\n",
    "        print(\"Weird\")\n",
    "    elif n%2==0: \n",
    "        if n>=2 and n<=5:\n",
    "            print(\"Not Weird\")\n",
    "        elif n>=6 and n<=20:\n",
    "            print(\"Weird\")\n",
    "        elif n>20:\n",
    "            print(\"Not Weird\")\n",
    "        "
   ]
  },
  {
   "cell_type": "code",
   "execution_count": 153,
   "metadata": {},
   "outputs": [
    {
     "name": "stdout",
     "output_type": "stream",
     "text": [
      "2\n",
      "2 4\n",
      "2\n"
     ]
    }
   ],
   "source": [
    "if __name__ == '__main__':\n",
    "    n = int(input())\n",
    "    arr = list(map(int, input().split()))\n",
    "def no_dup(x):\n",
    "    return list(dict.fromkeys(x))\n",
    "no_dup_list= no_dup(arr)\n",
    "no_dup_list.sort()\n",
    "length=len(no_dup_list)\n",
    "print(no_dup_list[length-2]) \n",
    "    \n",
    "    \n",
    "    \n",
    "        "
   ]
  },
  {
   "cell_type": "code",
   "execution_count": 71,
   "metadata": {},
   "outputs": [
    {
     "name": "stdout",
     "output_type": "stream",
     "text": [
      "2\n",
      "Arvind Sai\n",
      "35 35\n",
      "[['Arvind', '35'], ['Sai', '35']]\n",
      "2\n",
      "0 0\n",
      "True\n",
      "0\n",
      "0\n",
      "Arvind\n"
     ]
    }
   ],
   "source": [
    "if __name__ == '__main__':\n",
    "    list2=[]\n",
    "    def func(a,b,c):\n",
    "        for i in range(a):\n",
    "            list1 = []\n",
    "            name = b.split(\" \")\n",
    "            score = c.split(\" \")\n",
    "            list1.append(name[i])\n",
    "            list1.append(score[i])\n",
    "            list2.append(list1)\n",
    "        return list2\n",
    "\n",
    "x=func(a=int(input()),b=input(),c=input())\n",
    "def Sort(sub_li): \n",
    "    l = len(sub_li) \n",
    "    for i in range(0, l): \n",
    "        for j in range(0, l-i-1): \n",
    "            if (sub_li[j][1] > sub_li[j + 1][1]): \n",
    "                temp = sub_li[j] \n",
    "                sub_li[j]= sub_li[j + 1] \n",
    "                sub_li[j + 1]= temp \n",
    "    return sub_li \n",
    "  \n",
    "# Driver Code \n",
    "Sorted_list=Sort(x)\n",
    "print(Sorted_list) \n",
    "length= len(Sorted_list)\n",
    "print(length)\n",
    "#for i in range(0,length):\n",
    "i=0\n",
    "for j in range(0,length-i-1):\n",
    "    print(j,i)\n",
    "    if(Sorted_list[j][1]==Sorted_list[j+1][1]):\n",
    "        print(True)\n",
    "        print(i)\n",
    "        i+=i\n",
    "        print(i)\n",
    "        print(Sorted_list[j][0])          \n",
    "\n",
    "\n",
    "       \n",
    "        \n",
    "        "
   ]
  },
  {
   "cell_type": "code",
   "execution_count": 154,
   "metadata": {},
   "outputs": [
    {
     "name": "stdout",
     "output_type": "stream",
     "text": [
      "1.8.0\n",
      "Running on http://127.0.0.1:8050/\n",
      "Debugger PIN: 678-000-596\n",
      " * Serving Flask app \"__main__\" (lazy loading)\n",
      " * Environment: production\n",
      "   WARNING: This is a development server. Do not use it in a production deployment.\n",
      "   Use a production WSGI server instead.\n",
      " * Debug mode: on\n"
     ]
    },
    {
     "ename": "SystemExit",
     "evalue": "1",
     "output_type": "error",
     "traceback": [
      "An exception has occurred, use %tb to see the full traceback.\n",
      "\u001b[1;31mSystemExit\u001b[0m\u001b[1;31m:\u001b[0m 1\n"
     ]
    },
    {
     "name": "stderr",
     "output_type": "stream",
     "text": [
      "C:\\Users\\a.reddy.pagidela\\AppData\\Local\\Continuum\\anaconda3\\lib\\site-packages\\IPython\\core\\interactiveshell.py:3333: UserWarning:\n",
      "\n",
      "To exit: use 'exit', 'quit', or Ctrl-D.\n",
      "\n"
     ]
    }
   ],
   "source": [
    "import dash\n",
    "import dash_core_components as dcc\n",
    "import dash_html_components as html\n",
    "\n",
    "print(dcc.__version__) # 0.6.0 or above is required\n",
    "\n",
    "external_stylesheets = ['https://codepen.io/chriddyp/pen/bWLwgP.css']\n",
    "\n",
    "app = dash.Dash(__name__, external_stylesheets=external_stylesheets)\n",
    "\n",
    "app.layout = html.Div([\n",
    "    # represents the URL bar, doesn't render anything\n",
    "    dcc.Location(id='url', refresh=False),\n",
    "\n",
    "    dcc.Link('Navigate to \"/\"', href='/'),\n",
    "    html.Br(),\n",
    "    dcc.Link('Navigate to \"/page-2\"', href='/page-2'),\n",
    "\n",
    "    # content will be rendered in this element\n",
    "    html.Div(id='page-content')\n",
    "])\n",
    "\n",
    "\n",
    "@app.callback(dash.dependencies.Output('page-content', 'children'),\n",
    "              [dash.dependencies.Input('url', 'pathname')])\n",
    "def display_page(pathname):\n",
    "    return html.Div([\n",
    "        html.H3('You are on page {}'.format(pathname))\n",
    "    ])\n",
    "\n",
    "\n",
    "if __name__ == '__main__':\n",
    "    app.run_server(debug=True)"
   ]
  },
  {
   "cell_type": "code",
   "execution_count": 7,
   "metadata": {},
   "outputs": [
    {
     "name": "stdout",
     "output_type": "stream",
     "text": [
      "[2, 4, 6, 8, 10, 12, 14, 16, 18, 20, 22, 24, 26, 28, 30, 32, 34, 36, 38, 40, 42, 44, 46, 48, 50, 52, 54, 56, 58, 60, 62, 64, 66, 68, 70, 72, 74, 76, 78, 80, 82, 84, 86, 88, 90, 92, 94, 96, 98, 100]\n"
     ]
    }
   ],
   "source": [
    "Example_list=[]\n",
    "i=1\n",
    "\n",
    "while (i<101):\n",
    "    if i%2==0:\n",
    "        Example_list.append(i)\n",
    "    i=i+1\n",
    "    \n",
    "print(Example_list)\n",
    "    "
   ]
  }
 ],
 "metadata": {
  "kernelspec": {
   "display_name": "Python 3",
   "language": "python",
   "name": "python3"
  },
  "language_info": {
   "codemirror_mode": {
    "name": "ipython",
    "version": 3
   },
   "file_extension": ".py",
   "mimetype": "text/x-python",
   "name": "python",
   "nbconvert_exporter": "python",
   "pygments_lexer": "ipython3",
   "version": "3.7.3"
  }
 },
 "nbformat": 4,
 "nbformat_minor": 2
}
